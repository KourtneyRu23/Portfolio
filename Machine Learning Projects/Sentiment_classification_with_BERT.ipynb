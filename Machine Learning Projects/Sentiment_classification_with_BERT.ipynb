{
  "cells": [
    {
      "cell_type": "markdown",
      "metadata": {
        "id": "IEuMrHa7NpOR"
      },
      "source": [
        "`imdb_reviews` dataset is a large movie review dataset. This dataset is for binary sentiment classification containing a set of 25,000 highly polar movie reviews for training, and 25,000 for testing. All the reviews have either a *positive* or *negative* sentiment.\n",
        "Reference: http://ai.stanford.edu/~amaas/data/sentiment/"
      ]
    },
    {
      "cell_type": "markdown",
      "metadata": {
        "id": "-Os7AkHsNIPl"
      },
      "source": [
        "# Install and load libraries"
      ]
    },
    {
      "cell_type": "code",
      "execution_count": null,
      "metadata": {
        "colab": {
          "base_uri": "https://localhost:8080/"
        },
        "collapsed": true,
        "id": "z682XYsrjkY9",
        "jupyter": {
          "outputs_hidden": true
        },
        "outputId": "487a0489-aa32-4025-dc5d-009c37eb364c",
        "tags": []
      },
      "outputs": [
        {
          "output_type": "stream",
          "name": "stdout",
          "text": [
            "Requirement already satisfied: tensorflow_datasets in /usr/local/lib/python3.10/dist-packages (4.9.2)\n",
            "Requirement already satisfied: absl-py in /usr/local/lib/python3.10/dist-packages (from tensorflow_datasets) (1.4.0)\n",
            "Requirement already satisfied: array-record in /usr/local/lib/python3.10/dist-packages (from tensorflow_datasets) (0.4.0)\n",
            "Requirement already satisfied: click in /usr/local/lib/python3.10/dist-packages (from tensorflow_datasets) (8.1.6)\n",
            "Requirement already satisfied: dm-tree in /usr/local/lib/python3.10/dist-packages (from tensorflow_datasets) (0.1.8)\n",
            "Requirement already satisfied: etils[enp,epath]>=0.9.0 in /usr/local/lib/python3.10/dist-packages (from tensorflow_datasets) (1.4.0)\n",
            "Requirement already satisfied: numpy in /usr/local/lib/python3.10/dist-packages (from tensorflow_datasets) (1.22.4)\n",
            "Requirement already satisfied: promise in /usr/local/lib/python3.10/dist-packages (from tensorflow_datasets) (2.3)\n",
            "Requirement already satisfied: protobuf>=3.20 in /usr/local/lib/python3.10/dist-packages (from tensorflow_datasets) (3.20.3)\n",
            "Requirement already satisfied: psutil in /usr/local/lib/python3.10/dist-packages (from tensorflow_datasets) (5.9.5)\n",
            "Requirement already satisfied: requests>=2.19.0 in /usr/local/lib/python3.10/dist-packages (from tensorflow_datasets) (2.27.1)\n",
            "Requirement already satisfied: tensorflow-metadata in /usr/local/lib/python3.10/dist-packages (from tensorflow_datasets) (1.13.1)\n",
            "Requirement already satisfied: termcolor in /usr/local/lib/python3.10/dist-packages (from tensorflow_datasets) (2.3.0)\n",
            "Requirement already satisfied: toml in /usr/local/lib/python3.10/dist-packages (from tensorflow_datasets) (0.10.2)\n",
            "Requirement already satisfied: tqdm in /usr/local/lib/python3.10/dist-packages (from tensorflow_datasets) (4.65.0)\n",
            "Requirement already satisfied: wrapt in /usr/local/lib/python3.10/dist-packages (from tensorflow_datasets) (1.14.1)\n",
            "Requirement already satisfied: importlib_resources in /usr/local/lib/python3.10/dist-packages (from etils[enp,epath]>=0.9.0->tensorflow_datasets) (6.0.0)\n",
            "Requirement already satisfied: typing_extensions in /usr/local/lib/python3.10/dist-packages (from etils[enp,epath]>=0.9.0->tensorflow_datasets) (4.5.0)\n",
            "Requirement already satisfied: zipp in /usr/local/lib/python3.10/dist-packages (from etils[enp,epath]>=0.9.0->tensorflow_datasets) (3.16.2)\n",
            "Requirement already satisfied: urllib3<1.27,>=1.21.1 in /usr/local/lib/python3.10/dist-packages (from requests>=2.19.0->tensorflow_datasets) (1.26.16)\n",
            "Requirement already satisfied: certifi>=2017.4.17 in /usr/local/lib/python3.10/dist-packages (from requests>=2.19.0->tensorflow_datasets) (2023.7.22)\n",
            "Requirement already satisfied: charset-normalizer~=2.0.0 in /usr/local/lib/python3.10/dist-packages (from requests>=2.19.0->tensorflow_datasets) (2.0.12)\n",
            "Requirement already satisfied: idna<4,>=2.5 in /usr/local/lib/python3.10/dist-packages (from requests>=2.19.0->tensorflow_datasets) (3.4)\n",
            "Requirement already satisfied: six in /usr/local/lib/python3.10/dist-packages (from promise->tensorflow_datasets) (1.16.0)\n",
            "Requirement already satisfied: googleapis-common-protos<2,>=1.52.0 in /usr/local/lib/python3.10/dist-packages (from tensorflow-metadata->tensorflow_datasets) (1.59.1)\n",
            "Requirement already satisfied: tensorflow_text in /usr/local/lib/python3.10/dist-packages (2.13.0)\n",
            "Requirement already satisfied: tensorflow-hub>=0.8.0 in /usr/local/lib/python3.10/dist-packages (from tensorflow_text) (0.14.0)\n",
            "Requirement already satisfied: tensorflow<2.14,>=2.13.0 in /usr/local/lib/python3.10/dist-packages (from tensorflow_text) (2.13.0)\n",
            "Requirement already satisfied: absl-py>=1.0.0 in /usr/local/lib/python3.10/dist-packages (from tensorflow<2.14,>=2.13.0->tensorflow_text) (1.4.0)\n",
            "Requirement already satisfied: astunparse>=1.6.0 in /usr/local/lib/python3.10/dist-packages (from tensorflow<2.14,>=2.13.0->tensorflow_text) (1.6.3)\n",
            "Requirement already satisfied: flatbuffers>=23.1.21 in /usr/local/lib/python3.10/dist-packages (from tensorflow<2.14,>=2.13.0->tensorflow_text) (23.5.26)\n",
            "Requirement already satisfied: gast<=0.4.0,>=0.2.1 in /usr/local/lib/python3.10/dist-packages (from tensorflow<2.14,>=2.13.0->tensorflow_text) (0.4.0)\n",
            "Requirement already satisfied: google-pasta>=0.1.1 in /usr/local/lib/python3.10/dist-packages (from tensorflow<2.14,>=2.13.0->tensorflow_text) (0.2.0)\n",
            "Requirement already satisfied: grpcio<2.0,>=1.24.3 in /usr/local/lib/python3.10/dist-packages (from tensorflow<2.14,>=2.13.0->tensorflow_text) (1.56.2)\n",
            "Requirement already satisfied: h5py>=2.9.0 in /usr/local/lib/python3.10/dist-packages (from tensorflow<2.14,>=2.13.0->tensorflow_text) (3.8.0)\n",
            "Requirement already satisfied: keras<2.14,>=2.13.1 in /usr/local/lib/python3.10/dist-packages (from tensorflow<2.14,>=2.13.0->tensorflow_text) (2.13.1)\n",
            "Requirement already satisfied: libclang>=13.0.0 in /usr/local/lib/python3.10/dist-packages (from tensorflow<2.14,>=2.13.0->tensorflow_text) (16.0.6)\n",
            "Requirement already satisfied: numpy<=1.24.3,>=1.22 in /usr/local/lib/python3.10/dist-packages (from tensorflow<2.14,>=2.13.0->tensorflow_text) (1.22.4)\n",
            "Requirement already satisfied: opt-einsum>=2.3.2 in /usr/local/lib/python3.10/dist-packages (from tensorflow<2.14,>=2.13.0->tensorflow_text) (3.3.0)\n",
            "Requirement already satisfied: packaging in /usr/local/lib/python3.10/dist-packages (from tensorflow<2.14,>=2.13.0->tensorflow_text) (23.1)\n",
            "Requirement already satisfied: protobuf!=4.21.0,!=4.21.1,!=4.21.2,!=4.21.3,!=4.21.4,!=4.21.5,<5.0.0dev,>=3.20.3 in /usr/local/lib/python3.10/dist-packages (from tensorflow<2.14,>=2.13.0->tensorflow_text) (3.20.3)\n",
            "Requirement already satisfied: setuptools in /usr/local/lib/python3.10/dist-packages (from tensorflow<2.14,>=2.13.0->tensorflow_text) (67.7.2)\n",
            "Requirement already satisfied: six>=1.12.0 in /usr/local/lib/python3.10/dist-packages (from tensorflow<2.14,>=2.13.0->tensorflow_text) (1.16.0)\n",
            "Requirement already satisfied: tensorboard<2.14,>=2.13 in /usr/local/lib/python3.10/dist-packages (from tensorflow<2.14,>=2.13.0->tensorflow_text) (2.13.0)\n",
            "Requirement already satisfied: tensorflow-estimator<2.14,>=2.13.0 in /usr/local/lib/python3.10/dist-packages (from tensorflow<2.14,>=2.13.0->tensorflow_text) (2.13.0)\n",
            "Requirement already satisfied: termcolor>=1.1.0 in /usr/local/lib/python3.10/dist-packages (from tensorflow<2.14,>=2.13.0->tensorflow_text) (2.3.0)\n",
            "Requirement already satisfied: typing-extensions<4.6.0,>=3.6.6 in /usr/local/lib/python3.10/dist-packages (from tensorflow<2.14,>=2.13.0->tensorflow_text) (4.5.0)\n",
            "Requirement already satisfied: wrapt>=1.11.0 in /usr/local/lib/python3.10/dist-packages (from tensorflow<2.14,>=2.13.0->tensorflow_text) (1.14.1)\n",
            "Requirement already satisfied: tensorflow-io-gcs-filesystem>=0.23.1 in /usr/local/lib/python3.10/dist-packages (from tensorflow<2.14,>=2.13.0->tensorflow_text) (0.32.0)\n",
            "Requirement already satisfied: wheel<1.0,>=0.23.0 in /usr/local/lib/python3.10/dist-packages (from astunparse>=1.6.0->tensorflow<2.14,>=2.13.0->tensorflow_text) (0.41.0)\n",
            "Requirement already satisfied: google-auth<3,>=1.6.3 in /usr/local/lib/python3.10/dist-packages (from tensorboard<2.14,>=2.13->tensorflow<2.14,>=2.13.0->tensorflow_text) (2.17.3)\n",
            "Requirement already satisfied: google-auth-oauthlib<1.1,>=0.5 in /usr/local/lib/python3.10/dist-packages (from tensorboard<2.14,>=2.13->tensorflow<2.14,>=2.13.0->tensorflow_text) (1.0.0)\n",
            "Requirement already satisfied: markdown>=2.6.8 in /usr/local/lib/python3.10/dist-packages (from tensorboard<2.14,>=2.13->tensorflow<2.14,>=2.13.0->tensorflow_text) (3.4.4)\n",
            "Requirement already satisfied: requests<3,>=2.21.0 in /usr/local/lib/python3.10/dist-packages (from tensorboard<2.14,>=2.13->tensorflow<2.14,>=2.13.0->tensorflow_text) (2.27.1)\n",
            "Requirement already satisfied: tensorboard-data-server<0.8.0,>=0.7.0 in /usr/local/lib/python3.10/dist-packages (from tensorboard<2.14,>=2.13->tensorflow<2.14,>=2.13.0->tensorflow_text) (0.7.1)\n",
            "Requirement already satisfied: werkzeug>=1.0.1 in /usr/local/lib/python3.10/dist-packages (from tensorboard<2.14,>=2.13->tensorflow<2.14,>=2.13.0->tensorflow_text) (2.3.6)\n",
            "Requirement already satisfied: cachetools<6.0,>=2.0.0 in /usr/local/lib/python3.10/dist-packages (from google-auth<3,>=1.6.3->tensorboard<2.14,>=2.13->tensorflow<2.14,>=2.13.0->tensorflow_text) (5.3.1)\n",
            "Requirement already satisfied: pyasn1-modules>=0.2.1 in /usr/local/lib/python3.10/dist-packages (from google-auth<3,>=1.6.3->tensorboard<2.14,>=2.13->tensorflow<2.14,>=2.13.0->tensorflow_text) (0.3.0)\n",
            "Requirement already satisfied: rsa<5,>=3.1.4 in /usr/local/lib/python3.10/dist-packages (from google-auth<3,>=1.6.3->tensorboard<2.14,>=2.13->tensorflow<2.14,>=2.13.0->tensorflow_text) (4.9)\n",
            "Requirement already satisfied: requests-oauthlib>=0.7.0 in /usr/local/lib/python3.10/dist-packages (from google-auth-oauthlib<1.1,>=0.5->tensorboard<2.14,>=2.13->tensorflow<2.14,>=2.13.0->tensorflow_text) (1.3.1)\n",
            "Requirement already satisfied: urllib3<1.27,>=1.21.1 in /usr/local/lib/python3.10/dist-packages (from requests<3,>=2.21.0->tensorboard<2.14,>=2.13->tensorflow<2.14,>=2.13.0->tensorflow_text) (1.26.16)\n",
            "Requirement already satisfied: certifi>=2017.4.17 in /usr/local/lib/python3.10/dist-packages (from requests<3,>=2.21.0->tensorboard<2.14,>=2.13->tensorflow<2.14,>=2.13.0->tensorflow_text) (2023.7.22)\n",
            "Requirement already satisfied: charset-normalizer~=2.0.0 in /usr/local/lib/python3.10/dist-packages (from requests<3,>=2.21.0->tensorboard<2.14,>=2.13->tensorflow<2.14,>=2.13.0->tensorflow_text) (2.0.12)\n",
            "Requirement already satisfied: idna<4,>=2.5 in /usr/local/lib/python3.10/dist-packages (from requests<3,>=2.21.0->tensorboard<2.14,>=2.13->tensorflow<2.14,>=2.13.0->tensorflow_text) (3.4)\n",
            "Requirement already satisfied: MarkupSafe>=2.1.1 in /usr/local/lib/python3.10/dist-packages (from werkzeug>=1.0.1->tensorboard<2.14,>=2.13->tensorflow<2.14,>=2.13.0->tensorflow_text) (2.1.3)\n",
            "Requirement already satisfied: pyasn1<0.6.0,>=0.4.6 in /usr/local/lib/python3.10/dist-packages (from pyasn1-modules>=0.2.1->google-auth<3,>=1.6.3->tensorboard<2.14,>=2.13->tensorflow<2.14,>=2.13.0->tensorflow_text) (0.5.0)\n",
            "Requirement already satisfied: oauthlib>=3.0.0 in /usr/local/lib/python3.10/dist-packages (from requests-oauthlib>=0.7.0->google-auth-oauthlib<1.1,>=0.5->tensorboard<2.14,>=2.13->tensorflow<2.14,>=2.13.0->tensorflow_text) (3.2.2)\n",
            "Requirement already satisfied: tensorflow_hub in /usr/local/lib/python3.10/dist-packages (0.14.0)\n",
            "Requirement already satisfied: numpy>=1.12.0 in /usr/local/lib/python3.10/dist-packages (from tensorflow_hub) (1.22.4)\n",
            "Requirement already satisfied: protobuf>=3.19.6 in /usr/local/lib/python3.10/dist-packages (from tensorflow_hub) (3.20.3)\n"
          ]
        }
      ],
      "source": [
        "# Download tensorflow datasets\n",
        "!pip install tensorflow_datasets\n",
        "\n",
        "# A dependency of the preprocessing for BERT inputs\n",
        "!pip install tensorflow_text\n",
        "!pip install tensorflow_hub"
      ]
    },
    {
      "cell_type": "code",
      "execution_count": null,
      "metadata": {
        "id": "CrqfUUr3oQOr"
      },
      "outputs": [],
      "source": [
        "# Import libraries\n",
        "import numpy as np\n",
        "import matplotlib.pyplot as plt\n",
        "\n",
        "import tensorflow_datasets as tfds\n",
        "import tensorflow as tf\n",
        "from tensorflow import keras\n",
        "import tensorflow_hub as hub\n",
        "import tensorflow_text as text"
      ]
    },
    {
      "cell_type": "markdown",
      "metadata": {
        "id": "pRmMubr0jrE2"
      },
      "source": [
        "# Load the dataset\n"
      ]
    },
    {
      "cell_type": "code",
      "execution_count": null,
      "metadata": {
        "id": "SHRwRoP2nVHX",
        "colab": {
          "base_uri": "https://localhost:8080/"
        },
        "outputId": "79481165-6ea0-4c03-8960-45ba8d6c8ffb"
      },
      "outputs": [
        {
          "output_type": "stream",
          "name": "stdout",
          "text": [
            "Training set:  20000 samples\n",
            "Validation set:  5000 samples\n",
            "Test set:  25000 samples\n"
          ]
        }
      ],
      "source": [
        "# Load and split the data into training, validation and test data\n",
        "train_dataset, val_dataset, test_dataset = tfds.load(name=\"imdb_reviews\", split=('train[:80%]', 'train[80%:]', 'test'), as_supervised=True)\n",
        "\n",
        "print(\"Training set: \", len(train_dataset), \"samples\")\n",
        "print(\"Validation set: \", len(val_dataset), \"samples\")\n",
        "print(\"Test set: \", len(test_dataset), \"samples\")"
      ]
    },
    {
      "cell_type": "code",
      "execution_count": null,
      "metadata": {
        "id": "dDsCaZCDYZgm",
        "colab": {
          "base_uri": "https://localhost:8080/"
        },
        "outputId": "f6dc3ed1-3a26-484c-ea44-2bac41244159"
      },
      "outputs": [
        {
          "output_type": "stream",
          "name": "stdout",
          "text": [
            "X_train shape: (20000,)\n",
            "y_train shape: (20000,)\n",
            "X_val shape: (5000,)\n",
            "y_val shape: (5000,)\n",
            "X_test shape: (25000,)\n",
            "y_test shape: (25000,)\n"
          ]
        }
      ],
      "source": [
        "### Convert Tensorflow Dataset to numpy arrays of feature vector X and label y\n",
        "\n",
        "# Convert training set\n",
        "train_ds_numpy = tfds.as_numpy(train_dataset) # Convert TF Dataset to an iterable of numpy array\n",
        "train_numpy = np.vstack(list(train_ds_numpy)) # Stack to full numpy array\n",
        "X_train = np.array(list(map(lambda x: x[0], train_numpy))) # Extract review (index 0) from numpy vector\n",
        "y_train = np.array(list(map(lambda x: x[1], train_numpy))).astype(np.int16) # Extract label (index 1) from numpy vector and convert grom string to number\n",
        "print(\"X_train shape: \" + str(X_train.shape))\n",
        "print(\"y_train shape: \" + str(y_train.shape))\n",
        "\n",
        "# Convert validation set\n",
        "val_ds_numpy = tfds.as_numpy(val_dataset) # Convert TF Dataset to an iterable of numpy array\n",
        "val_numpy = np.vstack(list(val_ds_numpy)) # Stack to full numpy array\n",
        "X_val = np.array(list(map(lambda x: x[0], val_numpy))) # Extract review (index 0) from numpy vector\n",
        "y_val = np.array(list(map(lambda x: x[1], val_numpy))).astype(np.int16) # Extract label (index 1) from numpy vector\n",
        "print(\"X_val shape: \" + str(X_val.shape))\n",
        "print(\"y_val shape: \" + str(y_val.shape))\n",
        "\n",
        "# Convert test set\n",
        "test_ds_numpy = tfds.as_numpy(test_dataset) # Convert TF Dataset to an iterable of numpy array\n",
        "test_numpy = np.vstack(list(test_ds_numpy)) # Stack to full numpy array\n",
        "X_test = np.array(list(map(lambda x: x[0], test_numpy))) # Extract review (index 0) from numpy vector\n",
        "y_test = np.array(list(map(lambda x: x[1], test_numpy))).astype(np.int16) # Extract label (index 1) from numpy vector\n",
        "print(\"X_test shape: \" + str(X_test.shape))\n",
        "print(\"y_test shape: \" + str(y_test.shape))"
      ]
    },
    {
      "cell_type": "code",
      "execution_count": null,
      "metadata": {
        "cellView": "form",
        "id": "y8_ctG55-uTX",
        "tags": [],
        "colab": {
          "base_uri": "https://localhost:8080/"
        },
        "outputId": "96217c64-28c4-48e4-f38a-8a4ffe7e3e0a"
      },
      "outputs": [
        {
          "output_type": "stream",
          "name": "stdout",
          "text": [
            "BERT model selected           : https://tfhub.dev/tensorflow/small_bert/bert_en_uncased_L-4_H-128_A-2/1\n",
            "Preprocess model auto-selected: https://tfhub.dev/tensorflow/bert_en_uncased_preprocess/3\n"
          ]
        }
      ],
      "source": [
        "# Mapping from name to URL of Bert models\n",
        "map_name_to_model = {\n",
        "    'small_bert/bert_en_uncased_L-4_H-128_A-2':\n",
        "        'https://tfhub.dev/tensorflow/small_bert/bert_en_uncased_L-4_H-128_A-2/1',\n",
        "}\n",
        "\n",
        "# Mapping from name to URL of respective processings for the Bert models\n",
        "map_name_to_preprocess = {\n",
        "    'small_bert/bert_en_uncased_L-4_H-128_A-2':\n",
        "        'https://tfhub.dev/tensorflow/bert_en_uncased_preprocess/3',\n",
        "}\n",
        "\n",
        "bert_name = 'small_bert/bert_en_uncased_L-4_H-128_A-2'\n",
        "\n",
        "# Get URLs of model and processing from tfhub\n",
        "tfhub_model = map_name_to_model[bert_name]\n",
        "tfhub_preprocess = map_name_to_preprocess[bert_name]\n",
        "\n",
        "print('BERT model selected           : ' + str(tfhub_model))\n",
        "print('Preprocess model auto-selected: ' + str(tfhub_preprocess))"
      ]
    },
    {
      "cell_type": "code",
      "execution_count": null,
      "metadata": {
        "id": "BaNIXVlHFcz1",
        "colab": {
          "base_uri": "https://localhost:8080/"
        },
        "outputId": "520dac23-4a8c-4692-ceb3-7431c3336408"
      },
      "outputs": [
        {
          "output_type": "execute_result",
          "data": {
            "text/plain": [
              "<tf.Tensor: shape=(2, 128, 128), dtype=float32, numpy=\n",
              "array([[[ 0.73784965,  0.6468414 ,  1.4904901 , ...,  0.7170412 ,\n",
              "          0.39639616,  2.4403534 ],\n",
              "        [ 0.82598066,  2.278494  ,  2.7428224 , ...,  0.04711669,\n",
              "         -0.20306677,  0.41707635],\n",
              "        [ 1.8927286 ,  2.3991027 ,  2.530036  , ...,  1.2135599 ,\n",
              "          0.5009977 , -0.42372137],\n",
              "        ...,\n",
              "        [ 0.9149519 ,  0.67947525,  3.0144296 , ...,  0.9499518 ,\n",
              "          0.61819315,  2.6098416 ],\n",
              "        [ 1.0355229 ,  0.5342034 ,  3.4464831 , ...,  0.8159932 ,\n",
              "          0.0781073 ,  2.3334985 ],\n",
              "        [ 0.60048616, -0.1359011 ,  3.8240137 , ...,  0.7554917 ,\n",
              "         -0.66331166,  1.7184199 ]],\n",
              "\n",
              "       [[ 0.8755345 ,  1.0891194 , -0.29904932, ...,  0.3457279 ,\n",
              "          0.35335958,  2.2415688 ],\n",
              "        [ 1.9044834 ,  1.2882807 ,  2.7091234 , ...,  0.4765866 ,\n",
              "          0.40065   ,  1.3620956 ],\n",
              "        [ 2.702751  ,  0.9061697 ,  1.332027  , ..., -0.4199657 ,\n",
              "         -0.3847281 ,  2.6498637 ],\n",
              "        ...,\n",
              "        [ 0.8990988 ,  1.7010351 ,  1.9842286 , ...,  0.64808387,\n",
              "         -0.16329186,  2.7198117 ],\n",
              "        [ 0.9655281 ,  1.3556731 ,  2.245623  , ...,  0.41998324,\n",
              "         -0.6345882 ,  2.6376522 ],\n",
              "        [ 0.66523826,  0.47042987,  2.3623686 , ...,  0.1806685 ,\n",
              "         -0.87054515,  2.2113419 ]]], dtype=float32)>"
            ]
          },
          "metadata": {},
          "execution_count": 7
        }
      ],
      "source": [
        "# Load the BERT model and preprocessing from TensorFlow Hub\n",
        "bert_model = hub.KerasLayer(tfhub_model,trainable=True, name='BERT_encoder')\n",
        "bert_preprocess = hub.KerasLayer(tfhub_preprocess, name = 'preprocessing')\n",
        "\n",
        "# Function to get embedding feature vectors of each encoder block\n",
        "def get_encoder_block_embeddings(text):\n",
        "    # Preprocess the text using BERT preprocessing\n",
        "    preprocessed_text = bert_preprocess(text)\n",
        "    # Get the BERT model outputs\n",
        "    bert_outputs = bert_model(preprocessed_text)\n",
        "    # Extract the hidden_states which contains embeddings from all encoder blocks\n",
        "    hidden_states = bert_outputs['encoder_outputs']\n",
        "    # Return the embeddings from each encoder block as a list of tensors\n",
        "    return hidden_states[-1]\n",
        "\n",
        "text_example = ['It is a cool movie. The graphics and the animation are awesome.',\n",
        "                'The movie was really bad. I would not recommend it to anyone.']\n",
        "\n",
        "encoder_block_embeddings = get_encoder_block_embeddings(text_example)\n",
        "encoder_block_embeddings"
      ]
    },
    {
      "cell_type": "code",
      "execution_count": null,
      "metadata": {
        "id": "LPNR7azEFcz2",
        "colab": {
          "base_uri": "https://localhost:8080/"
        },
        "outputId": "efce48ca-9c8d-4e91-dac6-ee71d3cd6927"
      },
      "outputs": [
        {
          "output_type": "execute_result",
          "data": {
            "text/plain": [
              "<tf.Tensor: shape=(2, 128, 128), dtype=float32, numpy=\n",
              "array([[[ 0.73784965,  0.6468414 ,  1.4904901 , ...,  0.7170412 ,\n",
              "          0.39639616,  2.4403534 ],\n",
              "        [ 0.82598066,  2.278494  ,  2.7428224 , ...,  0.04711669,\n",
              "         -0.20306677,  0.41707635],\n",
              "        [ 1.8927286 ,  2.3991027 ,  2.530036  , ...,  1.2135599 ,\n",
              "          0.5009977 , -0.42372137],\n",
              "        ...,\n",
              "        [ 0.9149519 ,  0.67947525,  3.0144296 , ...,  0.9499518 ,\n",
              "          0.61819315,  2.6098416 ],\n",
              "        [ 1.0355229 ,  0.5342034 ,  3.4464831 , ...,  0.8159932 ,\n",
              "          0.0781073 ,  2.3334985 ],\n",
              "        [ 0.60048616, -0.1359011 ,  3.8240137 , ...,  0.7554917 ,\n",
              "         -0.66331166,  1.7184199 ]],\n",
              "\n",
              "       [[ 0.8755345 ,  1.0891194 , -0.29904932, ...,  0.3457279 ,\n",
              "          0.35335958,  2.2415688 ],\n",
              "        [ 1.9044834 ,  1.2882807 ,  2.7091234 , ...,  0.4765866 ,\n",
              "          0.40065   ,  1.3620956 ],\n",
              "        [ 2.702751  ,  0.9061697 ,  1.332027  , ..., -0.4199657 ,\n",
              "         -0.3847281 ,  2.6498637 ],\n",
              "        ...,\n",
              "        [ 0.8990988 ,  1.7010351 ,  1.9842286 , ...,  0.64808387,\n",
              "         -0.16329186,  2.7198117 ],\n",
              "        [ 0.9655281 ,  1.3556731 ,  2.245623  , ...,  0.41998324,\n",
              "         -0.6345882 ,  2.6376522 ],\n",
              "        [ 0.66523826,  0.47042987,  2.3623686 , ...,  0.1806685 ,\n",
              "         -0.87054515,  2.2113419 ]]], dtype=float32)>"
            ]
          },
          "metadata": {},
          "execution_count": 8
        }
      ],
      "source": [
        "# Function to combine the embedding feature vectors from all encoder blocks\n",
        "def combine_encoder_block_embeddings(embeddings):\n",
        "    combined_embedding = tf.concat(embeddings, axis=-1)\n",
        "    return combined_embedding\n",
        "\n",
        "combined_embedding = combine_encoder_block_embeddings(encoder_block_embeddings)\n",
        "combined_embedding"
      ]
    },
    {
      "cell_type": "code",
      "source": [
        "# Build the complete model, including preprocessing module, BERT model and classification layers\n",
        "def build_model():\n",
        "  text_input = keras.layers.Input(shape=(), dtype=tf.string, name='text') # Define text input layer\n",
        "  preprocessing_layer = hub.KerasLayer(tfhub_preprocess, name='preprocessing') # Define preprocessing layer\n",
        "  encoder_inputs = preprocessing_layer(text_input) # Get the text input through the preprocessing layer. Output of this is input of Bert model (a.k.a. encoder)\n",
        "  encoder = hub.KerasLayer(tfhub_model, trainable=True, name='BERT_encoder') # Define Bert model. 'Trainable' = True parameter is for finetuning purpose\n",
        "  outputs = encoder(encoder_inputs) # Get the encoder_inputs through the Bert model to get output embedding vector\n",
        "  embeddings = outputs['encoder_outputs']\n",
        "  combined = tf.concat(embeddings, axis=-1)\n",
        "  pooled = tf.keras.layers.GlobalAveragePooling1D()(combined)\n",
        "  net = keras.layers.Dense(64, activation='relu')(pooled) # Add dense layer\n",
        "  net = keras.layers.BatchNormalization()(net) # Add batch norm layer\n",
        "  net = keras.layers.Dropout(0.5)(net) # Add dropout layer\n",
        "  net = keras.layers.Dense(1, activation='sigmoid', name='classifier')(net) # Add binary classification output layer\n",
        "  return keras.Model(inputs=text_input, outputs=net, name=\"BERT_complete_model\")\n",
        "\n",
        "# Build the complete model\n",
        "model = build_model()\n",
        "\n",
        "# Print the model architecture\n",
        "model.summary()"
      ],
      "metadata": {
        "colab": {
          "base_uri": "https://localhost:8080/"
        },
        "id": "JEbyLs4vpyKJ",
        "outputId": "740b40e5-9acf-458c-aaf7-6802eaaad482"
      },
      "execution_count": null,
      "outputs": [
        {
          "output_type": "stream",
          "name": "stdout",
          "text": [
            "Model: \"BERT_complete_model\"\n",
            "__________________________________________________________________________________________________\n",
            " Layer (type)                Output Shape                 Param #   Connected to                  \n",
            "==================================================================================================\n",
            " text (InputLayer)           [(None,)]                    0         []                            \n",
            "                                                                                                  \n",
            " preprocessing (KerasLayer)  {'input_word_ids': (None,    0         ['text[0][0]']                \n",
            "                             128),                                                                \n",
            "                              'input_mask': (None, 128)                                           \n",
            "                             , 'input_type_ids': (None,                                           \n",
            "                              128)}                                                               \n",
            "                                                                                                  \n",
            " BERT_encoder (KerasLayer)   {'sequence_output': (None,   4782465   ['preprocessing[0][0]',       \n",
            "                              128, 128),                             'preprocessing[0][1]',       \n",
            "                              'pooled_output': (None, 1              'preprocessing[0][2]']       \n",
            "                             28),                                                                 \n",
            "                              'default': (None, 128),                                             \n",
            "                              'encoder_outputs': [(None                                           \n",
            "                             , 128, 128),                                                         \n",
            "                              (None, 128, 128),                                                   \n",
            "                              (None, 128, 128),                                                   \n",
            "                              (None, 128, 128)]}                                                  \n",
            "                                                                                                  \n",
            " tf.concat (TFOpLambda)      (None, 128, 512)             0         ['BERT_encoder[0][1]',        \n",
            "                                                                     'BERT_encoder[0][2]',        \n",
            "                                                                     'BERT_encoder[0][3]',        \n",
            "                                                                     'BERT_encoder[0][4]']        \n",
            "                                                                                                  \n",
            " global_average_pooling1d_1  (None, 512)                  0         ['tf.concat[0][0]']           \n",
            "  (GlobalAveragePooling1D)                                                                        \n",
            "                                                                                                  \n",
            " dense (Dense)               (None, 64)                   32832     ['global_average_pooling1d_1[0\n",
            "                                                                    ][0]']                        \n",
            "                                                                                                  \n",
            " batch_normalization (Batch  (None, 64)                   256       ['dense[0][0]']               \n",
            " Normalization)                                                                                   \n",
            "                                                                                                  \n",
            " dropout (Dropout)           (None, 64)                   0         ['batch_normalization[0][0]'] \n",
            "                                                                                                  \n",
            " classifier (Dense)          (None, 1)                    65        ['dropout[0][0]']             \n",
            "                                                                                                  \n",
            "==================================================================================================\n",
            "Total params: 4815618 (18.37 MB)\n",
            "Trainable params: 4815489 (18.37 MB)\n",
            "Non-trainable params: 129 (513.00 Byte)\n",
            "__________________________________________________________________________________________________\n"
          ]
        }
      ]
    },
    {
      "cell_type": "code",
      "source": [
        "# Compile the model\n",
        "model.compile(optimizer=tf.keras.optimizers.SGD(learning_rate = 0.01),\n",
        "                         loss='binary_crossentropy',\n",
        "                         metrics=['accuracy'])\n",
        "\n",
        "# Train the model\n",
        "history = model.fit(X_train, y_train,\n",
        "                               epochs=10,\n",
        "                               batch_size = 64,\n",
        "                               validation_data=(X_val, y_val),\n",
        "                              )"
      ],
      "metadata": {
        "id": "NuRLPLxUq0Va",
        "colab": {
          "base_uri": "https://localhost:8080/"
        },
        "outputId": "7e901a68-b372-4fd9-f1b8-ea6c67b1db3f"
      },
      "execution_count": null,
      "outputs": [
        {
          "output_type": "stream",
          "name": "stdout",
          "text": [
            "Epoch 1/10\n",
            "313/313 [==============================] - 109s 327ms/step - loss: 0.4123 - accuracy: 0.8141 - val_loss: 0.4240 - val_accuracy: 0.8038\n",
            "Epoch 2/10\n",
            "313/313 [==============================] - 97s 309ms/step - loss: 0.4034 - accuracy: 0.8189 - val_loss: 0.4158 - val_accuracy: 0.8090\n",
            "Epoch 3/10\n",
            "313/313 [==============================] - 97s 311ms/step - loss: 0.3924 - accuracy: 0.8225 - val_loss: 0.5134 - val_accuracy: 0.7704\n",
            "Epoch 4/10\n",
            "313/313 [==============================] - 96s 307ms/step - loss: 0.3813 - accuracy: 0.8310 - val_loss: 0.4343 - val_accuracy: 0.8060\n",
            "Epoch 5/10\n",
            "313/313 [==============================] - 100s 320ms/step - loss: 0.3676 - accuracy: 0.8361 - val_loss: 1.1418 - val_accuracy: 0.6076\n",
            "Epoch 6/10\n",
            "313/313 [==============================] - 95s 304ms/step - loss: 0.3560 - accuracy: 0.8439 - val_loss: 0.4094 - val_accuracy: 0.8080\n",
            "Epoch 7/10\n",
            "313/313 [==============================] - 96s 306ms/step - loss: 0.3457 - accuracy: 0.8523 - val_loss: 0.4415 - val_accuracy: 0.8054\n",
            "Epoch 8/10\n",
            "313/313 [==============================] - 95s 304ms/step - loss: 0.3354 - accuracy: 0.8538 - val_loss: 0.4187 - val_accuracy: 0.8160\n",
            "Epoch 9/10\n",
            "313/313 [==============================] - 96s 305ms/step - loss: 0.3233 - accuracy: 0.8637 - val_loss: 0.7635 - val_accuracy: 0.7190\n",
            "Epoch 10/10\n",
            "313/313 [==============================] - 96s 306ms/step - loss: 0.3110 - accuracy: 0.8658 - val_loss: 0.4267 - val_accuracy: 0.8150\n"
          ]
        }
      ]
    },
    {
      "cell_type": "code",
      "source": [
        "# Evaluate the model on the test set\n",
        "test_loss, test_acc = model.evaluate(X_test, y_test)\n",
        "print('Test Loss:', test_loss)\n",
        "print('Test Accuracy:', test_acc)"
      ],
      "metadata": {
        "id": "MHlwEzQXIj7Q",
        "outputId": "ef699a32-7fba-44ca-a5a5-777a9a00f36f",
        "colab": {
          "base_uri": "https://localhost:8080/"
        }
      },
      "execution_count": null,
      "outputs": [
        {
          "output_type": "stream",
          "name": "stdout",
          "text": [
            "782/782 [==============================] - 63s 81ms/step - loss: 0.4306 - accuracy: 0.8139\n",
            "Test Loss: 0.4305551052093506\n",
            "Test Accuracy: 0.8138800263404846\n"
          ]
        }
      ]
    },
    {
      "cell_type": "code",
      "source": [
        "# Initialize the plot\n",
        "fig, (ax1, ax2) = plt.subplots(1, 2, figsize=(15, 5))\n",
        "\n",
        "# Plot model loss during training\n",
        "ax1.plot(history.history[\"loss\"])\n",
        "ax1.plot(history.history[\"val_loss\"])\n",
        "ax1.legend([\"train\", \"val\"], loc=\"upper right\")\n",
        "ax1.set_xlabel(\"Epochs\")\n",
        "ax1.set_ylabel(\"Loss\")\n",
        "ax1.set_title(\"Model loss over epochs\")\n",
        "\n",
        "# Plot model accuracy during training\n",
        "ax2.plot(history.history[\"accuracy\"])\n",
        "ax2.plot(history.history[\"val_accuracy\"])\n",
        "ax2.legend([\"train\", \"val\"], loc=\"upper right\")\n",
        "ax2.set_xlabel(\"Epochs\")\n",
        "ax2.set_ylabel(\"Accuracy\")\n",
        "ax2.set_title(\"Model accuracy over epochs\")\n",
        "plt.show()"
      ],
      "metadata": {
        "id": "zbyqzHnVNLv0",
        "outputId": "4c8d1c6f-4c6a-40b3-c5ff-cc24009794c6",
        "colab": {
          "base_uri": "https://localhost:8080/",
          "height": 487
        }
      },
      "execution_count": null,
      "outputs": [
        {
          "output_type": "display_data",
          "data": {
            "text/plain": [
              "<Figure size 1500x500 with 2 Axes>"
            ],
            "image/png": "[encoded data removed]"
          },
          "metadata": {}
        }
      ]
    },
    {
      "cell_type": "code",
      "source": [
        "# Make prediction on new text reviews\n",
        "sample_reviews = [('It is a cool movie. The graphics and the animation are awesome'),\n",
        "                  ('The movie was really bad. I would not recommend it to anyone.')]\n",
        "predictions = model.predict(np.array(sample_reviews))\n",
        "print(predictions[0])\n",
        "print(predictions[1])"
      ],
      "metadata": {
        "id": "YZKgi6KZNTtR",
        "outputId": "a3354c1d-7850-453d-e885-5a64f2579645",
        "colab": {
          "base_uri": "https://localhost:8080/"
        }
      },
      "execution_count": null,
      "outputs": [
        {
          "output_type": "stream",
          "name": "stdout",
          "text": [
            "1/1 [==============================] - 0s 32ms/step\n",
            "[0.99906236]\n",
            "[0.00230189]\n"
          ]
        }
      ]
    }
  ],
  "metadata": {
    "accelerator": "GPU",
    "colab": {
      "machine_shape": "hm",
      "provenance": [],
      "gpuType": "T4"
    },
    "kernelspec": {
      "display_name": "Python 3",
      "name": "python3"
    },
    "language_info": {
      "codemirror_mode": {
        "name": "ipython",
        "version": 3
      },
      "file_extension": ".py",
      "mimetype": "text/x-python",
      "name": "python",
      "nbconvert_exporter": "python",
      "pygments_lexer": "ipython3",
      "version": "3.8.3"
    }
  },
  "nbformat": 4,
  "nbformat_minor": 0
}